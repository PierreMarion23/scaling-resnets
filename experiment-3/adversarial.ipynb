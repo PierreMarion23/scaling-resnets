{
 "cells": [
  {
   "cell_type": "code",
   "execution_count": 1,
   "id": "44a5c2a1-ba8c-4661-b9f6-91e69b656cbd",
   "metadata": {},
   "outputs": [],
   "source": [
    "import adversarial\n",
    "import data\n",
    "import models\n",
    "\n",
    "import distutils.spawn\n",
    "from matplotlib import rc\n",
    "import matplotlib.pyplot as plt\n",
    "import numpy as np\n",
    "import seaborn as sns\n",
    "import torch"
   ]
  },
  {
   "cell_type": "code",
   "execution_count": 2,
   "id": "8edc26fd-0fde-430e-95cd-67119c0491c1",
   "metadata": {},
   "outputs": [],
   "source": [
    "#import wandb\n",
    "#run = wandb.init()\n",
    "#artifact = run.use_artifact('lpsm-deep/scaling-resnets/resnet:v107', type='model')\n",
    "#artifact_dir = artifact.download()"
   ]
  },
  {
   "cell_type": "code",
   "execution_count": 3,
   "id": "170a63c0-3624-476c-ad32-950303a0b8a9",
   "metadata": {},
   "outputs": [],
   "source": [
    "sns.set(font_scale=1.5)\n",
    "\n",
    "if distutils.spawn.find_executable('latex'):\n",
    "    rc('font', **{'family': 'serif', 'serif': ['Computer Modern']})\n",
    "    rc('text', usetex=True)"
   ]
  },
  {
   "cell_type": "code",
   "execution_count": 31,
   "id": "ad52b0b0-06c3-4996-898b-aab8d5ff862a",
   "metadata": {},
   "outputs": [],
   "source": [
    "model = torch.load('artifacts/resnet:v107/trained-model.ckpt')"
   ]
  },
  {
   "cell_type": "code",
   "execution_count": 32,
   "id": "3af54115-7924-46d3-b511-220053d5ff30",
   "metadata": {},
   "outputs": [],
   "source": [
    "train_dl, test_dl, first_coord, nb_classes = data.load_dataset(\n",
    "            'FashionMNIST', vectorize=True)"
   ]
  },
  {
   "cell_type": "code",
   "execution_count": 33,
   "id": "d43ef4f6-4e87-4f60-b074-e049c82f3c14",
   "metadata": {},
   "outputs": [],
   "source": [
    "true_targets, predictions = adversarial.get_adversarial_predictions(\n",
    "    test_dl, model, torch.device('cpu'), 0.5, 1)"
   ]
  },
  {
   "cell_type": "code",
   "execution_count": 34,
   "id": "faa88694-fc40-459d-90bc-495f2e2c32ac",
   "metadata": {},
   "outputs": [],
   "source": [
    "n_correct = 0\n",
    "for k in range(len(true_targets)):\n",
    "    if true_targets[k] == predictions[k]:\n",
    "        n_correct += 1"
   ]
  },
  {
   "cell_type": "code",
   "execution_count": 35,
   "id": "8baf1849-3442-4dcd-ac25-c6f2fd694343",
   "metadata": {},
   "outputs": [
    {
     "data": {
      "text/plain": [
       "0.2687"
      ]
     },
     "execution_count": 35,
     "metadata": {},
     "output_type": "execute_result"
    }
   ],
   "source": [
    "#107 - 0.5 - 1\n",
    "n_correct / len(true_targets)"
   ]
  },
  {
   "cell_type": "code",
   "execution_count": 30,
   "id": "1efe12fd-4c1b-4927-966c-b1a1fa56d774",
   "metadata": {},
   "outputs": [
    {
     "data": {
      "text/plain": [
       "0.295"
      ]
     },
     "execution_count": 30,
     "metadata": {},
     "output_type": "execute_result"
    }
   ],
   "source": [
    "#106 - 0.5 - 1\n",
    "n_correct / len(true_targets)"
   ]
  },
  {
   "cell_type": "code",
   "execution_count": 25,
   "id": "53cc9427-9f7f-48dc-8fa6-fb8849c631f5",
   "metadata": {},
   "outputs": [
    {
     "data": {
      "text/plain": [
       "0.3334"
      ]
     },
     "execution_count": 25,
     "metadata": {},
     "output_type": "execute_result"
    }
   ],
   "source": [
    "#105 - 0.5 - 1\n",
    "n_correct / len(true_targets)"
   ]
  },
  {
   "cell_type": "code",
   "execution_count": 20,
   "id": "f07a720d-d7a8-48b3-893a-834654774de7",
   "metadata": {},
   "outputs": [
    {
     "data": {
      "text/plain": [
       "0.2464"
      ]
     },
     "execution_count": 20,
     "metadata": {},
     "output_type": "execute_result"
    }
   ],
   "source": [
    "#102 - 0.5 - 1\n",
    "n_correct / len(true_targets)"
   ]
  },
  {
   "cell_type": "code",
   "execution_count": 15,
   "id": "ea27edf6-aaed-40a8-ab62-84cb2d1a19af",
   "metadata": {},
   "outputs": [
    {
     "data": {
      "text/plain": [
       "0.2782"
      ]
     },
     "execution_count": 15,
     "metadata": {},
     "output_type": "execute_result"
    }
   ],
   "source": [
    "#101 - 0.5 - 1\n",
    "n_correct / len(true_targets)"
   ]
  },
  {
   "cell_type": "code",
   "execution_count": 11,
   "id": "bd3fe64d-d023-4b02-8339-92aef01fb42c",
   "metadata": {},
   "outputs": [
    {
     "data": {
      "text/plain": [
       "0.2731"
      ]
     },
     "execution_count": 11,
     "metadata": {},
     "output_type": "execute_result"
    }
   ],
   "source": [
    "#100 - 0.5 - 1\n",
    "n_correct / len(true_targets)"
   ]
  },
  {
   "cell_type": "code",
   "execution_count": 66,
   "id": "ef83aa29-c989-4260-af7b-6ce1cfcfe5ea",
   "metadata": {},
   "outputs": [
    {
     "data": {
      "text/plain": [
       "0.0858"
      ]
     },
     "execution_count": 66,
     "metadata": {},
     "output_type": "execute_result"
    }
   ],
   "source": [
    "#98 - 0.5 - 10\n",
    "n_correct / len(true_targets)"
   ]
  },
  {
   "cell_type": "code",
   "execution_count": 61,
   "id": "969af1bf-b50b-4adc-b2a6-31565bc5d7bd",
   "metadata": {},
   "outputs": [
    {
     "data": {
      "text/plain": [
       "0.105"
      ]
     },
     "execution_count": 61,
     "metadata": {},
     "output_type": "execute_result"
    }
   ],
   "source": [
    "#97 - 0.5 - 10\n",
    "n_correct / len(true_targets)"
   ]
  },
  {
   "cell_type": "code",
   "execution_count": 54,
   "id": "7e884654-7bfd-4908-8a6d-04735a8ecea4",
   "metadata": {},
   "outputs": [
    {
     "data": {
      "text/plain": [
       "0.3403"
      ]
     },
     "execution_count": 54,
     "metadata": {},
     "output_type": "execute_result"
    }
   ],
   "source": [
    "#97 - 0.5\n",
    "n_correct / len(true_targets)"
   ]
  },
  {
   "cell_type": "code",
   "execution_count": 22,
   "id": "55792b96-30d3-4891-a386-5325cdf9895e",
   "metadata": {},
   "outputs": [
    {
     "data": {
      "text/plain": [
       "0.4164"
      ]
     },
     "execution_count": 22,
     "metadata": {},
     "output_type": "execute_result"
    }
   ],
   "source": [
    "#97 - 0.3\n",
    "n_correct / len(true_targets)"
   ]
  },
  {
   "cell_type": "code",
   "execution_count": 25,
   "id": "73e3565a-de9b-4e02-80d2-9a8b6c28ef8c",
   "metadata": {},
   "outputs": [
    {
     "data": {
      "text/plain": [
       "0.8095"
      ]
     },
     "execution_count": 25,
     "metadata": {},
     "output_type": "execute_result"
    }
   ],
   "source": [
    "#97 - 0\n",
    "n_correct / len(true_targets)"
   ]
  },
  {
   "cell_type": "code",
   "execution_count": 30,
   "id": "48718af0-c1ea-428f-ae41-69f4bf6dc51a",
   "metadata": {},
   "outputs": [
    {
     "data": {
      "text/plain": [
       "0.8042"
      ]
     },
     "execution_count": 30,
     "metadata": {},
     "output_type": "execute_result"
    }
   ],
   "source": [
    "#96 - 0\n",
    "n_correct / len(true_targets)"
   ]
  },
  {
   "cell_type": "code",
   "execution_count": 17,
   "id": "feaf3b37-9b2d-4066-b0eb-4aa2fddb0ec8",
   "metadata": {},
   "outputs": [
    {
     "data": {
      "text/plain": [
       "0.4184"
      ]
     },
     "execution_count": 17,
     "metadata": {},
     "output_type": "execute_result"
    }
   ],
   "source": [
    "#96 - 0.3\n",
    "n_correct / len(true_targets)"
   ]
  },
  {
   "cell_type": "code",
   "execution_count": 46,
   "id": "bfd54bdd-454a-4e18-9268-ec3d398c22c1",
   "metadata": {},
   "outputs": [
    {
     "data": {
      "text/plain": [
       "0.3236"
      ]
     },
     "execution_count": 46,
     "metadata": {},
     "output_type": "execute_result"
    }
   ],
   "source": [
    "#96 - 0.5\n",
    "n_correct / len(true_targets)"
   ]
  },
  {
   "cell_type": "code",
   "execution_count": 13,
   "id": "cdbe176f-eb16-43a0-a864-b5c75b4deb15",
   "metadata": {},
   "outputs": [
    {
     "data": {
      "text/plain": [
       "0.3954"
      ]
     },
     "execution_count": 13,
     "metadata": {},
     "output_type": "execute_result"
    }
   ],
   "source": [
    "#98 - 0.3\n",
    "n_correct / len(true_targets)"
   ]
  },
  {
   "cell_type": "code",
   "execution_count": 35,
   "id": "ed82f8cb-3cab-4dcc-bb9f-29e0a84eb209",
   "metadata": {},
   "outputs": [
    {
     "data": {
      "text/plain": [
       "0.8057"
      ]
     },
     "execution_count": 35,
     "metadata": {},
     "output_type": "execute_result"
    }
   ],
   "source": [
    "#98 - 0\n",
    "n_correct / len(true_targets)"
   ]
  },
  {
   "cell_type": "code",
   "execution_count": 41,
   "id": "54190a26-a1e9-4359-92a6-5b0397442489",
   "metadata": {},
   "outputs": [
    {
     "data": {
      "text/plain": [
       "0.2948"
      ]
     },
     "execution_count": 41,
     "metadata": {},
     "output_type": "execute_result"
    }
   ],
   "source": [
    "#98 - 0.5\n",
    "n_correct / len(true_targets)"
   ]
  },
  {
   "cell_type": "code",
   "execution_count": null,
   "id": "0e93e910-6bf0-4999-a813-d86f6dba60e9",
   "metadata": {},
   "outputs": [],
   "source": []
  },
  {
   "cell_type": "code",
   "execution_count": null,
   "id": "32911992-04e8-4dc7-bd94-77c6b99745e9",
   "metadata": {},
   "outputs": [],
   "source": []
  }
 ],
 "metadata": {
  "kernelspec": {
   "display_name": "Python 3 (ipykernel)",
   "language": "python",
   "name": "python3"
  },
  "language_info": {
   "codemirror_mode": {
    "name": "ipython",
    "version": 3
   },
   "file_extension": ".py",
   "mimetype": "text/x-python",
   "name": "python",
   "nbconvert_exporter": "python",
   "pygments_lexer": "ipython3",
   "version": "3.9.9"
  }
 },
 "nbformat": 4,
 "nbformat_minor": 5
}
