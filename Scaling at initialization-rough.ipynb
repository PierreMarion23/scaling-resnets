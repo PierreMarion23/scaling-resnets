{
 "cells": [
  {
   "cell_type": "code",
   "execution_count": 4,
   "id": "047ead46",
   "metadata": {},
   "outputs": [],
   "source": [
    "import distutils.spawn\n",
    "from matplotlib import rc\n",
    "import matplotlib.pyplot as plt\n",
    "import pandas as pd\n",
    "import seaborn as sns\n",
    "import torch\n",
    "import numpy as np\n",
    "\n",
    "from models import FullResNet"
   ]
  },
  {
   "cell_type": "code",
   "execution_count": 5,
   "id": "58a62083",
   "metadata": {},
   "outputs": [],
   "source": [
    "sns.set(font_scale=1.5)\n",
    "\n",
    "if distutils.spawn.find_executable('latex'):\n",
    "    rc('font', **{'family': 'serif', 'serif': ['Computer Modern']})\n",
    "    rc('text', usetex=True)"
   ]
  },
  {
   "cell_type": "code",
   "execution_count": 8,
   "id": "1f9c95fc",
   "metadata": {},
   "outputs": [],
   "source": [
    "default_config= {\n",
    "    'width': 40,\n",
    "    'activation': 'ReLU',\n",
    "    'regularity': {},\n",
    "}"
   ]
  },
  {
   "cell_type": "code",
   "execution_count": 10,
   "id": "b518d214",
   "metadata": {},
   "outputs": [
    {
     "name": "stdout",
     "output_type": "stream",
     "text": [
      "0.05\n",
      "0\n",
      "1\n",
      "2\n",
      "3\n",
      "4\n",
      "0.14200000000000002\n",
      "0\n",
      "1\n",
      "2\n",
      "3\n",
      "4\n",
      "0.23399999999999999\n",
      "0\n",
      "1\n",
      "2\n",
      "3\n",
      "4\n",
      "0.326\n",
      "0\n",
      "1\n",
      "2\n",
      "3\n",
      "4\n",
      "0.418\n",
      "0\n",
      "1\n",
      "2\n",
      "3\n",
      "4\n",
      "0.51\n",
      "0\n",
      "1\n",
      "2\n",
      "3\n",
      "4\n",
      "0.6020000000000001\n",
      "0\n",
      "1\n",
      "2\n",
      "3\n",
      "4\n",
      "0.6940000000000001\n",
      "0\n",
      "1\n",
      "2\n",
      "3\n",
      "4\n",
      "0.786\n",
      "0\n",
      "1\n",
      "2\n",
      "3\n",
      "4\n",
      "0.878\n",
      "0\n",
      "1\n",
      "2\n",
      "3\n",
      "4\n",
      "0.97\n",
      "0\n",
      "1\n",
      "2\n",
      "3\n",
      "4\n"
     ]
    }
   ],
   "source": [
    "dim_input = 64\n",
    "nb_classes = 1\n",
    "\n",
    "niter = 5\n",
    "n_init = 10\n",
    "depth = 1000\n",
    "grid_beta = list(np.linspace(0, 1.3, 70))\n",
    "grid_reg = list(np.linspace(0.05, 0.97, 51))\n",
    "results = []\n",
    "\n",
    "for reg in grid_reg:\n",
    "    print(reg)\n",
    "    for k in range(niter):\n",
    "        print(k)\n",
    "        model_config = default_config\n",
    "        model_config['scaling_beta'] = 0.5\n",
    "        model_config['depth'] = depth\n",
    "        model_config['regularity']['type'] = 'fbm'\n",
    "        model_config['regularity']['value'] = reg\n",
    "        model = FullResNet(dim_input, nb_classes, **model_config)\n",
    "        \n",
    "        for beta in grid_beta:\n",
    "            model.reset_scaling(beta)\n",
    "            \n",
    "            for k in range(n_init):\n",
    "        \n",
    "                x0 = torch.rand((1, dim_input))\n",
    "                target = torch.rand((1,))\n",
    "\n",
    "                h_0 = model.init(x0)\n",
    "                h_L = model.forward_hidden_state(h_0)\n",
    "                output = model.final(h_L)\n",
    "\n",
    "                h_0.retain_grad()\n",
    "                h_L.retain_grad()\n",
    "\n",
    "                loss = torch.norm(output-target)**2\n",
    "                loss.backward()\n",
    "\n",
    "                h_0_grad = h_0.grad\n",
    "                h_L_grad = h_L.grad\n",
    "\n",
    "                results.append({\n",
    "                    'depth':depth, \n",
    "                    'beta': beta, \n",
    "                    'regularity': reg,\n",
    "                    'hidden_state_difference': float(torch.norm(h_L - h_0) / torch.norm(h_0)),\n",
    "                    'gradient_difference': float(torch.norm(h_L_grad - h_0_grad) / torch.norm(h_L_grad)),\n",
    "                })"
   ]
  },
  {
   "cell_type": "code",
   "execution_count": 18,
   "id": "d7efc50b",
   "metadata": {},
   "outputs": [],
   "source": [
    "df = pd.DataFrame(results)"
   ]
  },
  {
   "cell_type": "code",
   "execution_count": 19,
   "id": "330429dd",
   "metadata": {},
   "outputs": [],
   "source": [
    "df.columns = ['depth', 'scaling', 'regularity', 'hidden_state_difference', 'gradient_difference']"
   ]
  },
  {
   "cell_type": "code",
   "execution_count": 20,
   "id": "3869462c",
   "metadata": {
    "tags": []
   },
   "outputs": [],
   "source": [
    "df['log_hidden_state_difference'] = np.log10(df['hidden_state_difference'])\n",
    "df['log_gradients_difference'] = np.log10(df['gradient_difference'])"
   ]
  },
  {
   "cell_type": "code",
   "execution_count": 21,
   "id": "0feacc60-9555-4f90-8865-c8ebcdd689eb",
   "metadata": {},
   "outputs": [],
   "source": [
    "df.to_csv('simulations/relationship-scaling-init.csv')"
   ]
  },
  {
   "cell_type": "code",
   "execution_count": 33,
   "id": "19c9c8ca-1a53-4c33-b668-3b9ac42ebe67",
   "metadata": {},
   "outputs": [
    {
     "data": {
      "image/png": "[encoded data removed]",
      "text/plain": [
       "<Figure size 432x288 with 2 Axes>"
      ]
     },
     "metadata": {},
     "output_type": "display_data"
    }
   ],
   "source": [
    "df2 = df.pivot_table(index='scaling', columns='regularity', values='log_hidden_state_difference', dropna=False)\n",
    "df2.index = np.round(df2.index.astype(float), 2)\n",
    "df2.columns = np.round(df2.columns.astype(float), 2)\n",
    "df2 = df2.fillna(16)\n",
    "sns.heatmap(df2[::-1], vmin=-1, vmax=1, center=0, xticklabels=5, yticklabels=6, square=True)\n",
    "#plt.savefig('figures/heatmap-scaling-regularity.pdf', bbox_inches='tight')\n",
    "plt.show()"
   ]
  },
  {
   "cell_type": "code",
   "execution_count": 32,
   "id": "2fafe0d8-5f65-4e10-befd-ad775b7408ab",
   "metadata": {},
   "outputs": [
    {
     "data": {
      "image/png": "[encoded data removed]",
      "text/plain": [
       "<Figure size 432x288 with 2 Axes>"
      ]
     },
     "metadata": {},
     "output_type": "display_data"
    }
   ],
   "source": [
    "df2 = df.pivot_table(index='scaling', columns='regularity', values='log_gradients_difference', dropna=False)\n",
    "df2.index = np.round(df2.index.astype(float), 2)\n",
    "df2.columns = np.round(df2.columns.astype(float), 2)\n",
    "df2 = df2.fillna(16)\n",
    "sns.heatmap(df2[::-1], vmin=-1, vmax=1, center=0, xticklabels=5, yticklabels=6, square=True)\n",
    "#plt.savefig('figures/heatmap-scaling-regularity.pdf', bbox_inches='tight')\n",
    "plt.show()"
   ]
  },
  {
   "cell_type": "code",
   "execution_count": null,
   "id": "62047ef5-a1f0-4165-b396-31215de53495",
   "metadata": {},
   "outputs": [],
   "source": []
  }
 ],
 "metadata": {
  "kernelspec": {
   "display_name": "Python 3 (ipykernel)",
   "language": "python",
   "name": "python3"
  },
  "language_info": {
   "codemirror_mode": {
    "name": "ipython",
    "version": 3
   },
   "file_extension": ".py",
   "mimetype": "text/x-python",
   "name": "python",
   "nbconvert_exporter": "python",
   "pygments_lexer": "ipython3",
   "version": "3.9.9"
  }
 },
 "nbformat": 4,
 "nbformat_minor": 5
}
