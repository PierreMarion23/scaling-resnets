{
 "cells": [
  {
   "cell_type": "code",
   "execution_count": null,
   "id": "356f9b28",
   "metadata": {},
   "outputs": [],
   "source": [
    "from matplotlib import pyplot as plt\n",
    "from matplotlib import rc\n",
    "from matplotlib.colors import LogNorm\n",
    "import numpy as np\n",
    "import pandas as pd\n",
    "import seaborn as sns\n",
    "\n",
    "import distutils.spawn\n",
    "import glob\n",
    "import os\n",
    "import pickle"
   ]
  },
  {
   "cell_type": "code",
   "execution_count": null,
   "id": "cc2f6fa8",
   "metadata": {},
   "outputs": [],
   "source": [
    "sns.set(font_scale=1.5)\n",
    "\n",
    "if distutils.spawn.find_executable('latex'):\n",
    "    rc('font', **{'family': 'serif', 'serif': ['Computer Modern']})\n",
    "    rc('text', usetex=True)"
   ]
  },
  {
   "cell_type": "code",
   "execution_count": null,
   "id": "6ddaf12d",
   "metadata": {},
   "outputs": [],
   "source": [
    "exp_name = 'perf-weights-regularity-2'"
   ]
  },
  {
   "cell_type": "code",
   "execution_count": null,
   "id": "9a4fdfbd",
   "metadata": {},
   "outputs": [],
   "source": [
    "results = {'accuracy': [], 'regularity': [], 'lr': [], 'scaling': []}\n",
    "for directory in glob.glob(os.path.join('results', exp_name, '*')):\n",
    "    with open(os.path.join(directory, 'config.pkl'), 'rb') as f:\n",
    "        config = pickle.load(f)\n",
    "        results['regularity'].append(config['model-config']['regularity']['value'])\n",
    "        results['lr'].append(config['model-config']['lr'])\n",
    "        results['scaling'].append(config['model-config']['scaling_beta'])\n",
    "    with open(os.path.join(directory, 'metrics.pkl'), 'rb') as f:\n",
    "        metrics = pickle.load(f)\n",
    "        results['accuracy'].append(metrics['test_accuracy'])"
   ]
  },
  {
   "cell_type": "code",
   "execution_count": null,
   "id": "0ec1e595",
   "metadata": {},
   "outputs": [],
   "source": [
    "df = pd.DataFrame.from_dict(results)"
   ]
  },
  {
   "cell_type": "code",
   "execution_count": null,
   "id": "62edd5f3",
   "metadata": {},
   "outputs": [],
   "source": [
    "df.head()"
   ]
  },
  {
   "cell_type": "code",
   "execution_count": null,
   "id": "825e9460",
   "metadata": {},
   "outputs": [],
   "source": [
    "df2 = pd.pivot_table(df, index='scaling', columns='regularity', values='accuracy', aggfunc=np.max)"
   ]
  },
  {
   "cell_type": "code",
   "execution_count": null,
   "id": "2d3ee283",
   "metadata": {},
   "outputs": [],
   "source": [
    "df2.index = np.round(df2.index, 2)\n",
    "df2.columns = np.round(df2.columns, 2)"
   ]
  },
  {
   "cell_type": "code",
   "execution_count": null,
   "id": "aa5ab551",
   "metadata": {},
   "outputs": [],
   "source": [
    "sns.heatmap(df2[::-1], vmin=0, vmax=1, center=0.5, xticklabels=1, yticklabels=1, square=True)\n",
    "#plt.savefig('figures/perf-mnist-reg-scaling.pdf', bbox_inches='tight')\n",
    "plt.show()"
   ]
  },
  {
   "cell_type": "code",
   "execution_count": null,
   "id": "e69ac497",
   "metadata": {},
   "outputs": [],
   "source": [
    "df3 = pd.pivot_table(df[df['lr']==0.0001], index='scaling', columns='regularity', values='accuracy', aggfunc=np.max)"
   ]
  },
  {
   "cell_type": "code",
   "execution_count": null,
   "id": "8ee3d924",
   "metadata": {},
   "outputs": [],
   "source": [
    "df3.head()"
   ]
  },
  {
   "cell_type": "code",
   "execution_count": null,
   "id": "e984ec3e",
   "metadata": {},
   "outputs": [],
   "source": [
    "df3.index = np.round(df2.index, 2)\n",
    "df3.columns = np.round(df2.columns, 2)"
   ]
  },
  {
   "cell_type": "code",
   "execution_count": null,
   "id": "5e8be57e",
   "metadata": {},
   "outputs": [],
   "source": [
    "sns.heatmap(df3[::-1], vmin=0.8, vmax=1, center=0.9, xticklabels=1, yticklabels=1, square=True)\n",
    "#plt.savefig('figures/perf-mnist-reg-scaling-fixed-lr.pdf', bbox_inches='tight')\n",
    "plt.show()"
   ]
  },
  {
   "cell_type": "code",
   "execution_count": null,
   "id": "3d17749f",
   "metadata": {},
   "outputs": [],
   "source": []
  }
 ],
 "metadata": {
  "kernelspec": {
   "display_name": "Python 3 (ipykernel)",
   "language": "python",
   "name": "python3"
  },
  "language_info": {
   "codemirror_mode": {
    "name": "ipython",
    "version": 3
   },
   "file_extension": ".py",
   "mimetype": "text/x-python",
   "name": "python",
   "nbconvert_exporter": "python",
   "pygments_lexer": "ipython3",
   "version": "3.9.9"
  }
 },
 "nbformat": 4,
 "nbformat_minor": 5
}
